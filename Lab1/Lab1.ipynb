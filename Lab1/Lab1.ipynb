{
  "nbformat": 4,
  "nbformat_minor": 0,
  "metadata": {
    "colab": {
      "name": "Lab1.ipynb",
      "provenance": [],
      "collapsed_sections": []
    },
    "kernelspec": {
      "name": "python3",
      "display_name": "Python 3"
    }
  },
  "cells": [
    {
      "cell_type": "code",
      "metadata": {
        "colab": {
          "base_uri": "https://localhost:8080/"
        },
        "id": "sHxfVJjgJhgi",
        "outputId": "bcde47e1-b65e-4e23-bf3d-39c0dbb46a1d"
      },
      "source": [
        "cd /content/drive/MyDrive/Colab Notebooks/"
      ],
      "execution_count": null,
      "outputs": [
        {
          "output_type": "stream",
          "text": [
            "/content/drive/MyDrive/Colab Notebooks\n"
          ],
          "name": "stdout"
        }
      ]
    },
    {
      "cell_type": "code",
      "metadata": {
        "id": "aAuIu1RkJpi_"
      },
      "source": [
        "import pandas as pd \n",
        "from PIL import Image\n",
        "import glob \n",
        "import os\n",
        "import numpy as np\n",
        "import json\n",
        "import matplotlib.pyplot as plt \n",
        "import json"
      ],
      "execution_count": null,
      "outputs": []
    },
    {
      "cell_type": "code",
      "metadata": {
        "id": "s_mYQ8MTKDLN"
      },
      "source": [
        "img_dir = \"./PatternRecognition/alphabet/\"\n",
        "input_dir = \"./PatternRecognition/input/\"\n",
        "test_fns = glob.glob(img_dir + \"*.png\")\n",
        "input_fns = glob.glob(input_dir  + \"*.png\")\n",
        "with open(\"./PatternRecognition/frequencies.json\") as f :\n",
        "    freq = json.load(f)\n",
        "    \n",
        "alphabet = [os.path.basename(test_fn).split('.')[0] for test_fn in test_fns]\n",
        "icon = [np.array(Image.open(test_fn),int) for test_fn in test_fns]\n",
        "etalon = {alphabet[i]: icon[i] for i in range(len(alphabet))}\n",
        "input_images = [np.array(Image.open(input_fns),int) for input_fns in input_fns]\n",
        "input_names = [os.path.basename(input_fns).split('.')[0] for input_fns in input_fns]\n",
        "input_dict = {input_names[i]:input_images[i] for i in range(len(input_names))}\n",
        "\n",
        "\n",
        "S1 = 0\n",
        "S2 = 0\n",
        "prob = {i:freq[i] for i in list(freq.keys()) if \" \"  in i} \n",
        "bigraph = {i:freq[i] for i in list(freq.keys()) if \" \" not in i}\n",
        "\n",
        "\n",
        "for i in prob.keys():\n",
        "    if i[0] == \" \":\n",
        "        S1 += freq[i]\n",
        "    else :\n",
        "        S2 += freq[i]\n",
        "\"\"\"        \n",
        "for s in alphabet:\n",
        "    for i in prob.keys():\n",
        "         if s in i and \" \" in i:\n",
        "            prob[s] +=freq[i]\n",
        "            \"\"\"\n",
        "            \n",
        "for i in prob.keys():\n",
        "    if i[0] == \" \":\n",
        "        prob[i] = prob[i] / S1\n",
        "    if i[1] == \" \":\n",
        "        prob[i] = prob[i] / S2\n",
        "    \n",
        "for f in bigraph.keys():\n",
        "    ss = 0\n",
        "    for g in bigraph.keys():\n",
        "        if f[0] == f[0]:\n",
        "            ss += bigraph[g]\n",
        "    bigraph[f] = bigraph[f]/ss"
      ],
      "execution_count": null,
      "outputs": []
    },
    {
      "cell_type": "code",
      "metadata": {
        "colab": {
          "base_uri": "https://localhost:8080/"
        },
        "id": "ln5Ge_muPK7F",
        "outputId": "eecfb51a-c0d8-4d18-9aa3-c6cba6acd09a"
      },
      "source": [
        "from numba.types import List\n",
        "from functools import reduce\n",
        "import time\n",
        "from numba import jit,njit\n",
        "from numba import prange\n",
        "\n",
        "@jit(nopython = True)\n",
        "def logical_xor(a, b,c  = None):\n",
        "    if c == None:\n",
        "        return bool((a ^ b) and not(a and b))\n",
        "    else :\n",
        "        return (a ^ b ^ c) and not(a and b and c)\n",
        "\n",
        "@njit(nopython=True)\n",
        "def prod(n):\n",
        "    shp = [n.shape[0], n.shape[1]]\n",
        "   \n",
        "    result1 = 1.0\n",
        "    for i in range(shp[0]):\n",
        "      for j in range(shp[1]):\n",
        "          result1  =  result1 *  n[i][j]\n",
        "\n",
        "    return result1\n",
        "\n",
        "@jit(nopython = True)\n",
        "def logical_xor(a, b,c  = None):\n",
        "    if c == None:\n",
        "        return bool((a ^ b) and not(a and b))\n",
        "    else :\n",
        "        return (a ^ b ^ c) and not(a and b and c)\n",
        "\n",
        "@njit(nopython=True)\n",
        "def prod(n):\n",
        "    shp = [n.shape[0], n.shape[1]]\n",
        "   \n",
        "    result1 = 1.0\n",
        "    for i in range(shp[0]):\n",
        "      for j in range(shp[1]):\n",
        "          result1  =  result1 *  n[i][j]\n",
        "\n",
        "    return result1\n",
        "\n",
        "@jit(nopython = True)\n",
        "def prob_XOR(imgx,imgk,probk):\n",
        "    P = np.zeros((imgx.shape[0],imgx.shape[1]))\n",
        "    for i in range(imgx.shape[0]):\n",
        "        for j in range(imgx.shape[1]):\n",
        "            P[i][j] = (probk**(logical_xor(imgx[i][j],imgk[i][j])) * (1 - probk)**(logical_xor(1,imgx[i][j],imgk[i][j])))\n",
        "    \n",
        "    return P"
      ],
      "execution_count": null,
      "outputs": [
        {
          "output_type": "stream",
          "text": [
            "/usr/local/lib/python3.6/dist-packages/numba/decorators.py:234: RuntimeWarning: nopython is set for njit and is ignored\n",
            "  warnings.warn('nopython is set for njit and is ignored', RuntimeWarning)\n"
          ],
          "name": "stderr"
        }
      ]
    },
    {
      "cell_type": "code",
      "metadata": {
        "id": "raMbHfcNZ0T1"
      },
      "source": [
        "import time\n",
        "from numba import jit,njit\n",
        "from numba import prange\n",
        "\n",
        "#@njit(fastmath=True,nopython=True)\n",
        "@jit(fastmath=True,nopython=True)\n",
        "def vers3_dict1(input_image,index,etalon):\n",
        "    index = index\n",
        "    input_img_shape = input_image.shape[1]\n",
        "    keys = list(etalon.keys())\n",
        "    for j in (range((len(keys)))):\n",
        "        img_k = etalon[keys[j]].shape[1]\n",
        "        input_t = input_img_shape - img_k\n",
        "        if input_t - 12 > 0:\n",
        "          if index[input_img_shape - 1][j]  == 0:\n",
        "              img_t = input_image[:,:img_k + 1]\n",
        "              P  = prob_XOR(img_t,etalon[keys[j]],0.3)\n",
        "              val = np.log(prod(P))\n",
        "              index[input_img_shape - 1][j] = val\n",
        "              input_image = input_image[:,img_k+1:]\n",
        "              index = vers3_dict1(input_image,index,etalon)\n",
        "          else:\n",
        "            continue \n",
        "        elif input_t == 0:\n",
        "            if index[input_img_shape - 1][j] == 0:\n",
        "               img_t = input_image[:,:img_k + 1]\n",
        "               P  = prob_XOR(img_t,etalon[keys[j]],0.3)\n",
        "               val = np.log(prod(P))\n",
        "               index[input_img_shape - 1][j] = val\n",
        "            else:\n",
        "              continue\n",
        "        elif input_t < 0:\n",
        "            continue\n",
        "        else:\n",
        "            continue\n",
        "  \n",
        "    return index"
      ],
      "execution_count": null,
      "outputs": []
    },
    {
      "cell_type": "code",
      "metadata": {
        "id": "1j5TzPGwQzzu"
      },
      "source": [
        "import numba\n",
        "from numba import types\n",
        "from numba.typed import Dict,List\n",
        "import math\n",
        "etalon1 = Dict.empty(\n",
        "    key_type=types.unicode_type,\n",
        "    value_type=types.int_[:,:],\n",
        ")\n",
        "index = Dict.empty(\n",
        "    key_type=types.int_,\n",
        "    value_type=types.int_[:]\n",
        ")\n",
        "[etalon1.update({i:etalon[i]}) for i in etalon.keys()]\n",
        "#test_image = np.concatenate((etalon['a'],etalon['e']),axis =1 )\n",
        "test_image = input_images[-4]\n",
        "index = np.zeros([test_image.shape[1],27])\n",
        "shape = test_image.shape[1]\n",
        "t = vers3_dict1(test_image,index,etalon1)"
      ],
      "execution_count": null,
      "outputs": []
    },
    {
      "cell_type": "code",
      "metadata": {
        "colab": {
          "base_uri": "https://localhost:8080/"
        },
        "id": "9blGmRqeT5wj",
        "outputId": "0f870989-ddd0-4358-bf52-a9e0ba9b2b8d"
      },
      "source": [
        "lib_list = [ [[list(etalon.keys())[i],t[j][i],list(etalon.keys())[i]] for i in range(len(t[j])) if (t[j][i] != 0)]  for j in range(len(t)) ] \n",
        "for i in range(test_image.shape[1] - 1,-1,-1):\n",
        "  if i == []:\n",
        "      continue\n",
        "  for char_index,column_element in enumerate(lib_list[i]):\n",
        "    jump = etalon[column_element[0]].shape[1]\n",
        "    if i - jump < 0:\n",
        "      continue\n",
        "    best_prob = -1e+16\n",
        "    best_seq = None\n",
        "    next_char_column = lib_list[i - jump]\n",
        "    for sosed_index,char_sosed in enumerate(next_char_column):\n",
        "      if   (column_element[0] + char_sosed[0] in bigraph.keys()):\n",
        "        tupleProb = column_element[1] + char_sosed[1]  + np.log(bigraph[column_element[0] + char_sosed[0]])\n",
        "\n",
        "        lib_list[i - jump ][sosed_index][1] += np.log(tupleProb)\n",
        "        lib_list[i - jump][sosed_index][2] += column_element[0]\n"
      ],
      "execution_count": null,
      "outputs": [
        {
          "output_type": "stream",
          "text": [
            "/usr/local/lib/python3.6/dist-packages/ipykernel_launcher.py:16: RuntimeWarning: invalid value encountered in log\n",
            "  app.launch_new_instance()\n"
          ],
          "name": "stderr"
        }
      ]
    },
    {
      "cell_type": "code",
      "metadata": {
        "id": "zR2mB0BLWUfS"
      },
      "source": [
        "maxProb = -1e+16\n",
        "bestSq =None\n",
        "for i in lib_list:\n",
        "  for j in i:\n",
        "    if j[1] > maxProb:\n",
        "      maxProb = j[1]\n",
        "      bestSq = j[2]"
      ],
      "execution_count": null,
      "outputs": []
    },
    {
      "cell_type": "code",
      "metadata": {
        "id": "GrL7VBzie5o-"
      },
      "source": [
        "def update(indexes_arr,etalons,index,memory):\n",
        "  char_t = indexes_arr[index]\n",
        "  #d = list(etalons.keys())\n",
        "  for j,char in enumerate(char_t):\n",
        "    if char != 0:\n",
        "      #prob = char_t[j]\n",
        "      best_prob = 0\n",
        "      best_seq = None\n",
        "      index_t = index - etalons[d[j]].shape[1]\n",
        "      for k,i in enumerate(indexes_arr[index_t]):\n",
        "        if i != 0 and (d[j] + d[k] in bigraph.keys()) :\n",
        "          prob = i + char + bigraph[d[j] + d[k]]\n",
        "          if prob > best_prob:\n",
        "            best_prob = prob\n",
        "            best_seq = d[k]\n",
        "      \n",
        "        #new_seq = memory[j] + (best_seq)\n",
        "      memory[j].append(best_seq)\n",
        "      #indexes_arr[index-1][j] = best_prob\n",
        "      #memory[index-1][j] = best_seq\n",
        "\n",
        "memory = [{} for i in range(len(t))] \n",
        "for i in range(0,test_image.shape[1],1):\n",
        "  label = list(etalon.keys())\n",
        "  for char_index,column_element in enumerate(t[i]):\n",
        "    if column_element == 0:\n",
        "      continue\n",
        "    jump = etalon[label[char_index]].shape[1]\n",
        "    if i + jump > len(t):\n",
        "      continue\n",
        "    bestProb = 0\n",
        "    bestSec = None\n",
        "    next_char_column = t[i + jump]\n",
        "    for sosed_index,char_sosed in enumerate(next_char_column):\n",
        "      if char_sosed != 0 and (label[char_index] + label[sosed_index] in bigraph.keys()):\n",
        "        tupleProb = column_element + char_sosed  + bigraph[label[char_index] + label[sosed_index]]\n",
        "        if tupleProb > bestProb:\n",
        "          bestProb = tupleProb\n",
        "          if memory[char_index] == {}:\n",
        "            memory[char_index][label[char_index]] = [0,\"\"]\n",
        "          bestSec = memory[char_index][label[char_index]][1] + label[sosed_index]\n",
        "    memory[sosed_index][label[char_index]] = [bestProb,bestSec]\n",
        "    \n"
      ],
      "execution_count": null,
      "outputs": []
    },
    {
      "cell_type": "code",
      "metadata": {
        "id": "in9iGDfbjT09"
      },
      "source": [
        ""
      ],
      "execution_count": null,
      "outputs": []
    }
  ]
}