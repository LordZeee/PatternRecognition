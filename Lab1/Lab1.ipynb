{
 "cells": [
  {
   "cell_type": "code",
   "execution_count": null,
   "metadata": {
    "colab": {
     "base_uri": "https://localhost:8080/"
    },
    "id": "sHxfVJjgJhgi",
    "outputId": "bcde47e1-b65e-4e23-bf3d-39c0dbb46a1d"
   },
   "outputs": [
    {
     "name": "stdout",
     "output_type": "stream",
     "text": [
      "/content/drive/MyDrive/Colab Notebooks\n"
     ]
    }
   ],
   "source": [
    "cd /content/drive/MyDrive/Colab Notebooks/"
   ]
  },
  {
   "cell_type": "code",
   "execution_count": 39,
   "metadata": {
    "id": "aAuIu1RkJpi_"
   },
   "outputs": [],
   "source": [
    "import glob \n",
    "import os\n",
    "\n",
    "import numpy as np\n",
    "import json\n",
    "from PIL import Image\n",
    "import matplotlib.pyplot as plt "
   ]
  },
  {
   "cell_type": "code",
   "execution_count": 40,
   "metadata": {},
   "outputs": [],
   "source": [
    "import numba\n",
    "from numba import types\n",
    "from numba.typed import Dict,List\n",
    "import math"
   ]
  },
  {
   "cell_type": "code",
   "execution_count": 41,
   "metadata": {},
   "outputs": [],
   "source": [
    "import time\n",
    "from numba import jit,njit\n",
    "from numba import prange"
   ]
  },
  {
   "cell_type": "code",
   "execution_count": 42,
   "metadata": {},
   "outputs": [],
   "source": [
    "from numba.types import List\n",
    "from functools import reduce\n",
    "\n"
   ]
  },
  {
   "cell_type": "code",
   "execution_count": 3,
   "metadata": {
    "id": "s_mYQ8MTKDLN"
   },
   "outputs": [],
   "source": [
    "img_dir = \"./Lab1_data/alphabet/\"\n",
    "input_dir = \"./Lab1_data/input/\"\n",
    "test_fns = glob.glob(img_dir + \"*.png\")\n",
    "input_fns = glob.glob(input_dir  + \"*.png\")\n",
    "with open(\"./Lab1_data/frequencies.json\") as f :\n",
    "    freq = json.load(f)\n",
    "    \n",
    "alphabet = [os.path.basename(test_fn).split('.')[0] for test_fn in test_fns]\n",
    "icon = [np.array(Image.open(test_fn),int) for test_fn in test_fns]\n",
    "etalon = {alphabet[i]: icon[i] for i in range(len(alphabet))}\n",
    "input_images = [np.array(Image.open(input_fns),int) for input_fns in input_fns]\n",
    "input_names = [os.path.basename(input_fns).split('.')[0] for input_fns in input_fns]\n",
    "input_dict = {input_names[i]:input_images[i] for i in range(len(input_names))}\n",
    "\n",
    "\n",
    "S1 = 0\n",
    "S2 = 0\n",
    "prob = {i:freq[i] for i in list(freq.keys()) if \" \"  in i} \n",
    "bigraph = {i:freq[i] for i in list(freq.keys()) if \" \" not in i}\n",
    "\n",
    "\n",
    "for i in prob.keys():\n",
    "    if i[0] == \" \":\n",
    "        S1 += freq[i]\n",
    "    else :\n",
    "        S2 += freq[i]\n",
    "            \n",
    "for i in prob.keys():\n",
    "    if i[0] == \" \":\n",
    "        prob[i] = prob[i] / S1\n",
    "    if i[1] == \" \":\n",
    "        prob[i] = prob[i] / S2\n",
    "    \n",
    "for f in bigraph.keys():\n",
    "    ss = 0\n",
    "    for g in bigraph.keys():\n",
    "        if f[0] == f[0]:\n",
    "            ss += bigraph[g]\n",
    "    bigraph[f] = bigraph[f]/ss"
   ]
  },
  {
   "cell_type": "code",
   "execution_count": 4,
   "metadata": {
    "colab": {
     "base_uri": "https://localhost:8080/"
    },
    "id": "ln5Ge_muPK7F",
    "outputId": "eecfb51a-c0d8-4d18-9aa3-c6cba6acd09a"
   },
   "outputs": [],
   "source": [
    "\n",
    "@jit(nopython = True)\n",
    "def logical_xor(a, b,c  = None):\n",
    "    if c == None:\n",
    "        return bool((a ^ b) and not(a and b))\n",
    "    else :\n",
    "        return (a ^ b ^ c) and not(a and b and c)\n",
    "\n",
    "@jit(nopython=True)\n",
    "def prod(n):\n",
    "    shp = [n.shape[0], n.shape[1]]\n",
    "   \n",
    "    result1 = 1.0\n",
    "    for i in range(shp[0]):\n",
    "        for j in range(shp[1]):\n",
    "            result1  =  result1 *  n[i][j]\n",
    "\n",
    "    return result1\n",
    "\n",
    "@jit(nopython = True)\n",
    "def logical_xor(a, b,c  = None):\n",
    "    if c == None:\n",
    "        return bool((a ^ b) and not(a and b))\n",
    "    else :\n",
    "        return (a ^ b ^ c) and not(a and b and c)\n",
    "\n",
    "@jit(nopython=True)\n",
    "def prod(n):\n",
    "    shp = [n.shape[0], n.shape[1]]\n",
    "   \n",
    "    result1 = 1.0\n",
    "    for i in range(shp[0]):\n",
    "        for j in range(shp[1]):\n",
    "            result1  =  result1 *  n[i][j]\n",
    "\n",
    "    return result1\n",
    "\n",
    "@jit(nopython = True)\n",
    "def prob_XOR(imgx,imgk,probk):\n",
    "    P = np.zeros((imgx.shape[0],imgx.shape[1]))\n",
    "    for i in range(imgx.shape[0]):\n",
    "        for j in range(imgx.shape[1]):\n",
    "            P[i][j] = (probk**(logical_xor(imgx[i][j],imgk[i][j])) * (1 - probk)**(logical_xor(1,imgx[i][j],imgk[i][j])))\n",
    "    \n",
    "    return P"
   ]
  },
  {
   "cell_type": "code",
   "execution_count": 5,
   "metadata": {
    "id": "raMbHfcNZ0T1"
   },
   "outputs": [],
   "source": [
    "\n",
    "@jit(fastmath=True,nopython=True)\n",
    "def vers3_dict1(input_image,index,etalon):\n",
    "    index = index\n",
    "    input_img_shape = input_image.shape[1]\n",
    "    keys = list(etalon.keys())\n",
    "    for j in (range((len(keys)))):\n",
    "        img_k = etalon[keys[j]].shape[1]\n",
    "        input_t = input_img_shape - img_k\n",
    "        if input_t - 12 > 0:\n",
    "            if index[input_img_shape - 1][j]  == 0:\n",
    "              img_t = input_image[:,:img_k + 1]\n",
    "              P  = prob_XOR(img_t,etalon[keys[j]],0.3)\n",
    "              val = np.log(prod(P))\n",
    "              index[input_img_shape - 1][j] = val\n",
    "              input_image = input_image[:,img_k+1:]\n",
    "              index = vers3_dict1(input_image,index,etalon)\n",
    "          else:\n",
    "            continue \n",
    "        elif input_t == 0:\n",
    "            if index[input_img_shape - 1][j] == 0:\n",
    "               img_t = input_image[:,:img_k + 1]\n",
    "               P  = prob_XOR(img_t,etalon[keys[j]],0.3)\n",
    "               val = np.log(prod(P))\n",
    "               index[input_img_shape - 1][j] = val\n",
    "            else:\n",
    "              continue\n",
    "        elif input_t < 0:\n",
    "            continue\n",
    "        else:\n",
    "            continue\n",
    "  \n",
    "    return index"
   ]
  },
  {
   "cell_type": "code",
   "execution_count": 6,
   "metadata": {
    "id": "1j5TzPGwQzzu"
   },
   "outputs": [],
   "source": [
    "etalon1 = Dict.empty(\n",
    "    key_type=types.unicode_type,\n",
    "    value_type=types.int_[:,:],)\n",
    "\n",
    "index = Dict.empty(\n",
    "    key_type=types.int_,\n",
    "    value_type=types.int_[:])\n",
    "\n",
    "[etalon1.update({i:etalon[i]}) for i in etalon.keys()]\n",
    "test_image = input_images[-4]\n",
    "index = np.zeros([test_image.shape[1],27])\n",
    "shape = test_image.shape[1]\n",
    "t = vers3_dict1(test_image,index,etalon1)"
   ]
  },
  {
   "cell_type": "code",
   "execution_count": 31,
   "metadata": {
    "colab": {
     "base_uri": "https://localhost:8080/"
    },
    "id": "9blGmRqeT5wj",
    "outputId": "0f870989-ddd0-4358-bf52-a9e0ba9b2b8d"
   },
   "outputs": [
    {
     "name": "stderr",
     "output_type": "stream",
     "text": [
      "C:\\Anaconda\\lib\\site-packages\\ipykernel_launcher.py:13: RuntimeWarning: invalid value encountered in log\n",
      "  del sys.path[0]\n"
     ]
    }
   ],
   "source": [
    "lib_list = [ [[list(etalon.keys())[i],t[j][i],list(etalon.keys())[i]] for i in range(len(t[j])) if (t[j][i] != 0)]  for j in range(len(t)) ] \n",
    "for i in range(test_image.shape[1] - 1,-1,-1):\n",
    "      if i == []:\n",
    "          continue\n",
    "      for char_index,column_element in enumerate(lib_list[i]):\n",
    "        jump = etalon[column_element[0]].shape[1]\n",
    "        if i - jump < 0:\n",
    "          continue\n",
    "        next_char_column = lib_list[i - jump]\n",
    "        for sosed_index,char_sosed in enumerate(next_char_column):\n",
    "          if(column_element[0] + char_sosed[0] in bigraph.keys()):\n",
    "            tupleProb = column_element[1] + char_sosed[1]  + np.log(bigraph[column_element[0] + char_sosed[0]])\n",
    "            lib_list[i - jump][sosed_index][1] += np.log(-tupleProb)\n",
    "            lib_list[i - jump][sosed_index][2] += column_element[0]\n"
   ]
  },
  {
   "cell_type": "code",
   "execution_count": 32,
   "metadata": {},
   "outputs": [
    {
     "name": "stdout",
     "output_type": "stream",
     "text": [
      "(1333, 27)\n"
     ]
    },
    {
     "data": {
      "text/plain": [
       "array([-407.15774009, -380.22176656, -463.24916213, -252.38104022,\n",
       "       -375.85444718, -330.72337466, -322.70208579, -267.14177879,\n",
       "       -337.06098044, -402.15961403, -356.05664937, -474.48364339,\n",
       "       -478.41018567, -434.44571173, -377.32631593, -346.15385309,\n",
       "       -359.08448902, -495.26580493, -331.04111642, -580.59989554,\n",
       "       -349.23153856, -524.91811215, -422.7159307 , -488.4858631 ,\n",
       "       -376.65501712, -467.30653449, -441.80349652])"
      ]
     },
     "execution_count": 32,
     "metadata": {},
     "output_type": "execute_result"
    }
   ],
   "source": [
    "print(t.shape)\n",
    "t[-1]\n"
   ]
  },
  {
   "cell_type": "code",
   "execution_count": 38,
   "metadata": {
    "id": "zR2mB0BLWUfS"
   },
   "outputs": [],
   "source": [
    "maxProb = -1e+16\n",
    "bestSq =None\n",
    "for i in lib_list:\n",
    "  for j in i:\n",
    "    if j[1] > maxProb:\n",
    "      maxProb = j[1]\n",
    "      bestSq = j[2]"
   ]
  },
  {
   "cell_type": "code",
   "execution_count": 44,
   "metadata": {},
   "outputs": [
    {
     "name": "stdout",
     "output_type": "stream",
     "text": [
      "THE BEST SEQUENCE IN THE WORLD : ymuwclnryzaevboxtfgkpsdh\n"
     ]
    }
   ],
   "source": [
    "\n",
    "print(\"THE BEST SEQUENCE IN THE WORLD :\",bestSq)\n"
   ]
  },
  {
   "cell_type": "code",
   "execution_count": null,
   "metadata": {},
   "outputs": [],
   "source": []
  }
 ],
 "metadata": {
  "colab": {
   "collapsed_sections": [],
   "name": "Lab1.ipynb",
   "provenance": []
  },
  "kernelspec": {
   "display_name": "Python 3",
   "language": "python",
   "name": "python3"
  },
  "language_info": {
   "codemirror_mode": {
    "name": "ipython",
    "version": 3
   },
   "file_extension": ".py",
   "mimetype": "text/x-python",
   "name": "python",
   "nbconvert_exporter": "python",
   "pygments_lexer": "ipython3",
   "version": "3.7.4"
  }
 },
 "nbformat": 4,
 "nbformat_minor": 1
}
